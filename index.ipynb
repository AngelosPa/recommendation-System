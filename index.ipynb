{
 "cells": [
  {
   "cell_type": "code",
   "execution_count": null,
   "metadata": {},
   "outputs": [],
   "source": [
    "#import requests\n",
    "import requests\n",
    "# imdb movies api\n",
    "url = \"https://online-movie-database.p.rapidapi.com/title/get-details\"\n",
    "querystring = {\"tconst\": \"tt0944947\"}\n",
    "headers = {\n",
    "\t\"X-RapidAPI-Key\": \"eafd80d964msh84d79dbf75cdb6bp18fef8jsn333a4d75cd6f\",\n",
    "\t\"X-RapidAPI-Host\": \"online-movie-database.p.rapidapi.com\"\n",
    "}\n",
    "response = requests.request(\"GET\", url, headers=headers, params=querystring)\n",
    "res = response.json()\n",
    "# get picture url \n",
    "res[\"image\"][\"url\"]"
   ]
  },
  {
   "cell_type": "code",
   "execution_count": 34,
   "metadata": {},
   "outputs": [
    {
     "data": {
      "text/plain": [
       "'https://m.media-amazon.com/images/M/MV5BYTRiNDQwYzAtMzVlZS00NTI5LWJjYjUtMzkwNTUzMWMxZTllXkEyXkFqcGdeQXVyNDIzMzcwNjc@._V1_.jpg'"
      ]
     },
     "execution_count": 34,
     "metadata": {},
     "output_type": "execute_result"
    }
   ],
   "source": [
    "res[\"image\"][\"url\"]"
   ]
  },
  {
   "cell_type": "code",
   "execution_count": 40,
   "metadata": {},
   "outputs": [
    {
     "name": "stdout",
     "output_type": "stream",
     "text": [
      "\n",
      "<html>\n",
      "<head></head>\n",
      "<body>\n",
      "<p>hi elyesa</p>\n",
      "  <img src='https://m.media-amazon.com/images/M/MV5BYTRiNDQwYzAtMzVlZS00NTI5LWJjYjUtMzkwNTUzMWMxZTllXkEyXkFqcGdeQXVyNDIzMzcwNjc@._V1_.jpg'\n",
      " alt=\"...\" width=\"...\" height=\"...\">\n",
      "</body>\n",
      "</html>\n",
      "\n"
     ]
    },
    {
     "data": {
      "text/plain": [
       "True"
      ]
     },
     "execution_count": 40,
     "metadata": {},
     "output_type": "execute_result"
    }
   ],
   "source": [
    "# # import module\n",
    "# import webbrowser\n",
    "# import codecs\n",
    "\n",
    "# # to open/create a new html file in the write mode\n",
    "# f = open('GFG.html', 'w')\n",
    "\n",
    "# # the html code which will go in the file GFG.html\n",
    "# html_template = \"\"\"\n",
    "# <html>\n",
    "# <head></head>\n",
    "# <body>\n",
    "# <p>hi elyesa</p>\n",
    "#   <img src='https://m.media-amazon.com/images/M/MV5BYTRiNDQwYzAtMzVlZS00NTI5LWJjYjUtMzkwNTUzMWMxZTllXkEyXkFqcGdeQXVyNDIzMzcwNjc@._V1_.jpg'\n",
    "#  alt=\"...\" width=\"...\" height=\"...\">\n",
    "# </body>\n",
    "# </html>\n",
    "# \"\"\"\n",
    "\n",
    "# # writing the code into the file\n",
    "# f.write(html_template)\n",
    "\n",
    "# # close the file\n",
    "# f.close()\n",
    "\n",
    "# # viewing html files\n",
    "# # below code creates a\n",
    "# # codecs.StreamReaderWriter object\n",
    "# file = codecs.open(\"GFG.html\", 'r', \"utf-8\")\n",
    "\n",
    "# # using .read method to view the html\n",
    "# # code from our object\n",
    "# print(file.read())\n",
    "\n",
    "# # import module\n",
    "\n",
    "# # open html file\n",
    "# webbrowser.open('GFG.html')\n"
   ]
  }
 ],
 "metadata": {
  "kernelspec": {
   "display_name": "Python 3",
   "language": "python",
   "name": "python3"
  },
  "language_info": {
   "codemirror_mode": {
    "name": "ipython",
    "version": 3
   },
   "file_extension": ".py",
   "mimetype": "text/x-python",
   "name": "python",
   "nbconvert_exporter": "python",
   "pygments_lexer": "ipython3",
   "version": "3.10.4"
  },
  "orig_nbformat": 4,
  "vscode": {
   "interpreter": {
    "hash": "e5d44d20471fed6b31c84e96a507e39677b7979bf00486c2e6552218c91082f0"
   }
  }
 },
 "nbformat": 4,
 "nbformat_minor": 2
}
