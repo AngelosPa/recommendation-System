{
 "cells": [
  {
   "cell_type": "code",
   "execution_count": 39,
   "metadata": {},
   "outputs": [],
   "source": [
    "import pandas as pd\n",
    "import numpy as np\n",
    "from sklearn.metrics.pairwise import cosine_similarity\n",
    "from sklearn.preprocessing import MinMaxScaler\n",
    "from sklearn.model_selection import train_test_split\n",
    "from surprise import SVD, KNNBaseline, KNNBasic, KNNWithMeans, KNNWithZScore, NMF, NormalPredictor, BaselineOnly, CoClustering\n",
    "from surprise import Dataset\n",
    "from surprise.model_selection import cross_validate\n",
    "from surprise import Reader\n",
    "\n",
    "\n",
    "\n"
   ]
  },
  {
   "cell_type": "code",
   "execution_count": 40,
   "metadata": {},
   "outputs": [],
   "source": [
    "movies_original = pd.read_csv('movies.csv')\n",
    "ratings_original = pd.read_csv('ratings.csv')\n",
    "links_original = pd.read_csv('links.csv')\n"
   ]
  },
  {
   "cell_type": "code",
   "execution_count": 41,
   "metadata": {},
   "outputs": [
    {
     "ename": "SyntaxError",
     "evalue": "incomplete input (3645402396.py, line 39)",
     "output_type": "error",
     "traceback": [
      "\u001b[1;36m  Cell \u001b[1;32mIn [41], line 39\u001b[1;36m\u001b[0m\n\u001b[1;33m    \u001b[0m\n\u001b[1;37m    ^\u001b[0m\n\u001b[1;31mSyntaxError\u001b[0m\u001b[1;31m:\u001b[0m incomplete input\n"
     ]
    }
   ],
   "source": [
    "# user based recommendation evaluation using surprise\n",
    "# rating scale is choose upon the ratings for the movies 0 -5 \n",
    "# the reader is used to specify the rating scale of the data\n",
    "reader = Reader(rating_scale=(0, 5))\n",
    "# It is important to note that, the method expects the 'rating' column to be the last argument passed to it, so you should always pass the rating column as the last argument.\n",
    "data = Dataset.load_from_df(ratings_original[['userId', 'movieId', 'rating']], reader)\n",
    "\n",
    "# Use the famous Singular Value Decomposition (SVD) algorithm. This is a collaborative filtering algorithm, which will be used to make recommendations.\n",
    "algo_svd = SVD()\n",
    "# use other algorithms \n",
    "algo_knn = KNNBasic()\n",
    "algo_knnwithz = KNNWithZScore()\n",
    "algo_knnwithmeans = KNNWithMeans()\n",
    "algo_knnbaseline = KNNBaseline()\n",
    "\n",
    "# Run 5-fold cross-validation and print results.\n",
    "cross_validate(algo_svd, data, measures=['RMSE', 'MAE'], cv=5, verbose=True)\n",
    "# recommend movies for a user\n",
    "algo_svd.fit(data.build_full_trainset())\n",
    "algo_knn.fit(data.build_full_trainset())\n",
    "algo_knnwithz.fit(data.build_full_trainset())\n",
    "algo_knnwithmeans.fit(data.build_full_trainset())\n",
    "algo_knnbaseline.fit(data.build_full_trainset())\n",
    "\n",
    "algo_svd.predict(1, 302)\n",
    "# function that compares the algorithms and choose the best for the user\n",
    "def recommend_movies_surprise(user_id, n_movies):\n",
    "    # compare the algorithms\n",
    "    \n",
    " \n",
    "\n",
    "# # item based recommendation evaluation using surprise\n",
    "# reader = Reader(rating_scale=(0.5, 5))\n",
    "# data2 = Dataset.load_from_df(ratings_original[['userId', 'movieId', 'rating']], reader)\n",
    "\n",
    "\n",
    "   \n",
    "    \n",
    "    \n"
   ]
  },
  {
   "cell_type": "code",
   "execution_count": null,
   "metadata": {},
   "outputs": [
    {
     "data": {
      "text/plain": [
       "Prediction(uid=610, iid=302, r_ui=None, est=3.4557515859432906, details={'was_impossible': False})"
      ]
     },
     "execution_count": 37,
     "metadata": {},
     "output_type": "execute_result"
    }
   ],
   "source": [
    "algo_svd.predict(610, 302)\n",
    "# userID = 1\n",
    "# movieID = 302"
   ]
  },
  {
   "cell_type": "code",
   "execution_count": null,
   "metadata": {},
   "outputs": [
    {
     "data": {
      "text/plain": [
       "Prediction(uid=1, iid=302, r_ui=3, est=4.115664416432995, details={'was_impossible': False})"
      ]
     },
     "execution_count": 38,
     "metadata": {},
     "output_type": "execute_result"
    }
   ],
   "source": [
    "algo_svd.fit(data.build_full_trainset())\n",
    "algo_svd.predict(1, 302, 3).est\n",
    "# A higher est value means that the algorithm predicts that the user with ID user_id would give a higher rating to the movie movie. Typically, the predicted rating is on a scale of 1 to 5, with 5 being the highest rating. So, if the est value is closer to 5, it means that the algorithm predicts that the user would rate the movie highly, whereas if the est value is closer to 1, it means that the algorithm predicts that the user would rate the movie poorly.\n",
    "# It's important to note that the est is an estimation, and it may not reflect the real rating that the user would give to the movie, it can only give an approximation.\n"
   ]
  }
 ],
 "metadata": {
  "kernelspec": {
   "display_name": "Python 3",
   "language": "python",
   "name": "python3"
  },
  "language_info": {
   "codemirror_mode": {
    "name": "ipython",
    "version": 3
   },
   "file_extension": ".py",
   "mimetype": "text/x-python",
   "name": "python",
   "nbconvert_exporter": "python",
   "pygments_lexer": "ipython3",
   "version": "3.10.4"
  },
  "orig_nbformat": 4,
  "vscode": {
   "interpreter": {
    "hash": "e5d44d20471fed6b31c84e96a507e39677b7979bf00486c2e6552218c91082f0"
   }
  }
 },
 "nbformat": 4,
 "nbformat_minor": 2
}
