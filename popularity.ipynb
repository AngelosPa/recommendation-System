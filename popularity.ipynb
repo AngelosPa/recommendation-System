{
 "cells": [
  {
   "cell_type": "code",
   "execution_count": 1,
   "metadata": {},
   "outputs": [
    {
     "name": "stdout",
     "output_type": "stream",
     "text": [
      "Movie not in database. Please check your spelling. here are some popular rec\n"
     ]
    },
    {
     "data": {
      "text/plain": [
       "['Star Wars: Episode IV - A New Hope (1977)',\n",
       " 'Wizard of Oz, The (1939)',\n",
       " 'Death Race 2000 (1975)',\n",
       " 'The Jinx: The Life and Deaths of Robert Durst (2015)']"
      ]
     },
     "execution_count": 1,
     "metadata": {},
     "output_type": "execute_result"
    }
   ],
   "source": [
    "# recommender function \n",
    "import pandas as pd\n",
    "import numpy as np\n",
    "\n",
    "def recommend(movie_name, n):\n",
    "    movies = pd.read_csv('movies.csv')\n",
    "    ratings = pd.read_csv('ratings.csv')\n",
    "    links = pd.read_csv('links.csv')\n",
    "    # transform movie name to lower case for easier seach\n",
    "    movies['title_lower'] = movies['title'].str.lower()\n",
    "    ratings['rating_count'] = ratings.groupby('movieId')['rating'].sum()\n",
    "    # keep only ratings that are rated by at least 10 users\n",
    "    ratings = ratings[ratings['rating_count'] > 10]\n",
    "    # Create a new dataframe with movieId, title and genres\n",
    "    movies_df = movies.merge(ratings, on='movieId', how='inner')\n",
    "    # popularity \n",
    "    movies_df[\"popularity\"] = movies_df[\"rating_count\"]*movies_df[\"rating\"]\n",
    "    # splitting genres\n",
    "    movies_df['genres'] = movies_df['genres'].str.split('|')\n",
    "    if len(movies_df.loc[movies_df['title_lower'].str.contains(movie_name.lower())]) == 0:\n",
    "        print(\"Movie not in database. Please check your spelling. here are some popular rec\")\n",
    "        return movies_df.sort_values('popularity', ascending=False).head(n)[\"title\"].tolist()\n",
    "    else:\n",
    "        genres = movies_df.loc[movies_df['title_lower'].str.contains(\n",
    "            movie_name.lower())]['genres']\n",
    "        movies_df = movies_df[movies_df['genres'].isin(genres)]\n",
    "    # return movies_df.sort_values('popularity', ascending=False).head(n)\n",
    "        return movies_df.sort_values('popularity', ascending=False).head(n)[\"title\"].tolist()\n",
    "\n",
    "recommend('harry potter', 3)\n",
    "recommend('MaTRix', 4)\n",
    "recommend('harry Popper', 4)"
   ]
  },
  {
   "cell_type": "code",
   "execution_count": 170,
   "metadata": {},
   "outputs": [
    {
     "data": {
      "text/plain": [
       "['Harry Potter and the Half-Blood Prince (2009)',\n",
       " 'Hobbit: The Desolation of Smaug, The (2013)',\n",
       " 'NeverEnding Story, The (1984)']"
      ]
     },
     "execution_count": 170,
     "metadata": {},
     "output_type": "execute_result"
    }
   ],
   "source": [
    "recommend('harry potter', 3)"
   ]
  },
  {
   "cell_type": "code",
   "execution_count": 171,
   "metadata": {},
   "outputs": [
    {
     "data": {
      "text/plain": [
       "['Blade Runner (1982)',\n",
       " 'Predator 2 (1990)',\n",
       " 'Lawnmower Man 2: Beyond Cyberspace (1996)',\n",
       " 'Screamers (1995)']"
      ]
     },
     "execution_count": 171,
     "metadata": {},
     "output_type": "execute_result"
    }
   ],
   "source": [
    "recommend('MaTRix', 4)"
   ]
  },
  {
   "cell_type": "code",
   "execution_count": 172,
   "metadata": {},
   "outputs": [
    {
     "name": "stdout",
     "output_type": "stream",
     "text": [
      "Movie not in database. Please check your spelling. here are some popular rec\n"
     ]
    },
    {
     "data": {
      "text/plain": [
       "['Star Wars: Episode IV - A New Hope (1977)',\n",
       " 'Wizard of Oz, The (1939)',\n",
       " 'Death Race 2000 (1975)',\n",
       " 'The Jinx: The Life and Deaths of Robert Durst (2015)']"
      ]
     },
     "execution_count": 172,
     "metadata": {},
     "output_type": "execute_result"
    }
   ],
   "source": [
    "recommend('harry Popper', 4)"
   ]
  }
 ],
 "metadata": {
  "kernelspec": {
   "display_name": "Python 3",
   "language": "python",
   "name": "python3"
  },
  "language_info": {
   "codemirror_mode": {
    "name": "ipython",
    "version": 3
   },
   "file_extension": ".py",
   "mimetype": "text/x-python",
   "name": "python",
   "nbconvert_exporter": "python",
   "pygments_lexer": "ipython3",
   "version": "3.10.4"
  },
  "orig_nbformat": 4,
  "vscode": {
   "interpreter": {
    "hash": "e5d44d20471fed6b31c84e96a507e39677b7979bf00486c2e6552218c91082f0"
   }
  }
 },
 "nbformat": 4,
 "nbformat_minor": 2
}
