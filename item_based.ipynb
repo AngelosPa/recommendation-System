{
 "cells": [
  {
   "cell_type": "code",
   "execution_count": 97,
   "metadata": {},
   "outputs": [],
   "source": [
    "# recommender function \n",
    "import pandas as pd\n",
    "import numpy as np"
   ]
  },
  {
   "cell_type": "code",
   "execution_count": 98,
   "metadata": {},
   "outputs": [],
   "source": [
    "movies_original = pd.read_csv('movies.csv')\n",
    "ratings_original = pd.read_csv('ratings.csv')\n",
    "links_original = pd.read_csv('links.csv')\n"
   ]
  },
  {
   "cell_type": "code",
   "execution_count": 102,
   "metadata": {},
   "outputs": [],
   "source": [
    "# Create a new dataframe with movieId, title and genres\n",
    "movies_df = movies_original.merge(ratings_original, on='movieId', how='inner')\n",
    "# Predator (1987) with movieId == 3527\n",
    "#sparse matrix\n",
    "movies_crosstab_original = movies_df.pivot_table(\n",
    "    index='userId', columns='movieId', values='rating')\n",
    "movies_crosstab =movies_crosstab_original.copy()\n"
   ]
  },
  {
   "cell_type": "code",
   "execution_count": 103,
   "metadata": {},
   "outputs": [
    {
     "name": "stderr",
     "output_type": "stream",
     "text": [
      "c:\\Users\\mrpal\\AppData\\Local\\Programs\\Python\\Python310\\lib\\site-packages\\numpy\\lib\\function_base.py:2846: RuntimeWarning: Degrees of freedom <= 0 for slice\n",
      "  c = cov(x, y, rowvar, dtype=dtype)\n",
      "c:\\Users\\mrpal\\AppData\\Local\\Programs\\Python\\Python310\\lib\\site-packages\\numpy\\lib\\function_base.py:2705: RuntimeWarning: divide by zero encountered in divide\n",
      "  c *= np.true_divide(1, fact)\n"
     ]
    },
    {
     "data": {
      "text/html": [
       "<div>\n",
       "<style scoped>\n",
       "    .dataframe tbody tr th:only-of-type {\n",
       "        vertical-align: middle;\n",
       "    }\n",
       "\n",
       "    .dataframe tbody tr th {\n",
       "        vertical-align: top;\n",
       "    }\n",
       "\n",
       "    .dataframe thead th {\n",
       "        text-align: right;\n",
       "    }\n",
       "</style>\n",
       "<table border=\"1\" class=\"dataframe\">\n",
       "  <thead>\n",
       "    <tr style=\"text-align: right;\">\n",
       "      <th></th>\n",
       "      <th>title</th>\n",
       "      <th>genres</th>\n",
       "      <th>Viewer</th>\n",
       "    </tr>\n",
       "  </thead>\n",
       "  <tbody>\n",
       "    <tr>\n",
       "      <th>0</th>\n",
       "      <td>Nixon (1995)</td>\n",
       "      <td>Drama</td>\n",
       "      <td>1.000000</td>\n",
       "    </tr>\n",
       "    <tr>\n",
       "      <th>1</th>\n",
       "      <td>Murder in the First (1995)</td>\n",
       "      <td>Drama|Thriller</td>\n",
       "      <td>1.000000</td>\n",
       "    </tr>\n",
       "    <tr>\n",
       "      <th>2</th>\n",
       "      <td>Circle of Friends (1995)</td>\n",
       "      <td>Drama|Romance</td>\n",
       "      <td>0.983739</td>\n",
       "    </tr>\n",
       "    <tr>\n",
       "      <th>3</th>\n",
       "      <td>American in Paris, An (1951)</td>\n",
       "      <td>Musical|Romance</td>\n",
       "      <td>0.968330</td>\n",
       "    </tr>\n",
       "  </tbody>\n",
       "</table>\n",
       "</div>"
      ],
      "text/plain": [
       "                          title           genres    Viewer\n",
       "0                  Nixon (1995)            Drama  1.000000\n",
       "1    Murder in the First (1995)   Drama|Thriller  1.000000\n",
       "2      Circle of Friends (1995)    Drama|Romance  0.983739\n",
       "3  American in Paris, An (1951)  Musical|Romance  0.968330"
      ]
     },
     "execution_count": 103,
     "metadata": {},
     "output_type": "execute_result"
    }
   ],
   "source": [
    "def item_based_recommender(movie_name, n):\n",
    "    \n",
    "    movies = movies_original.copy()\n",
    "    ratings = ratings_original.copy()\n",
    "    movies['title_lower'] = movies['title'].str.lower()\n",
    "    if len(movies.loc[movies['title_lower'].str.contains(movie_name.lower())]) ==0:\n",
    "        return \"Movie not found\"\n",
    "    else:\n",
    "        top_popular_for_movieId = movies.loc[movies['title_lower'].str.contains( movie_name.lower())]['movieId'].values[0]\n",
    "        \n",
    "\n",
    "        # # Create a new dataframe with movieId, title and genres\n",
    "        # movies_df = movies.merge(ratings, on='movieId', how='inner')\n",
    "        # # Predator (1987) with movieId == 3527\n",
    "        # #sparse matrix\n",
    "        # movies_crosstab = movies_df.pivot_table(\n",
    "        #     index='userId', columns='movieId', values='rating')\n",
    "        # movies_crosstab = movies_crosstab_original.copy()\n",
    "        predator_ratings = movies_crosstab[top_popular_for_movieId]\n",
    "        predator_ratings[predator_ratings >= 0]  # exclude NaNs\n",
    "        similar_to_predator = movies_crosstab.corrwith(predator_ratings)\n",
    "        # NaN means that no users rated both the movie and the predator\n",
    "        # drop the NaNs\n",
    "        corr_predator = pd.DataFrame(similar_to_predator, columns=['Viewer'])\n",
    "        corr_predator.dropna(inplace=True)\n",
    "        corr_predator.sort_values('Viewer', ascending=False)\n",
    "        rating = pd.DataFrame(ratings.groupby('movieId')['rating'].mean())\n",
    "        rating['rating_count'] = ratings.groupby('movieId')['rating'].count()\n",
    "        predator_corr_summary = corr_predator.join(rating['rating_count'])\n",
    "        predator_corr_summary.drop(top_popular_for_movieId, inplace=True)\n",
    "        top = predator_corr_summary[predator_corr_summary['rating_count'] >= 10].sort_values(\n",
    "            'Viewer', ascending=False).head(n)\n",
    "\n",
    "        \n",
    "        return top.merge(movies, on='movieId', how='inner')[\n",
    "            ['title', 'genres', 'Viewer']]\n",
    "\n",
    "\n",
    "\n",
    "item_based_recommender('MaTRix', 4)\n",
    "\n"
   ]
  },
  {
   "cell_type": "code",
   "execution_count": 95,
   "metadata": {},
   "outputs": [
    {
     "data": {
      "text/plain": [
       "'Movie not found'"
      ]
     },
     "execution_count": 95,
     "metadata": {},
     "output_type": "execute_result"
    }
   ],
   "source": [
    "item_based_recommender('harry Popper', 4)\n"
   ]
  },
  {
   "cell_type": "code",
   "execution_count": 96,
   "metadata": {},
   "outputs": [
    {
     "name": "stderr",
     "output_type": "stream",
     "text": [
      "c:\\Users\\mrpal\\AppData\\Local\\Programs\\Python\\Python310\\lib\\site-packages\\numpy\\lib\\function_base.py:2846: RuntimeWarning: Degrees of freedom <= 0 for slice\n",
      "  c = cov(x, y, rowvar, dtype=dtype)\n",
      "c:\\Users\\mrpal\\AppData\\Local\\Programs\\Python\\Python310\\lib\\site-packages\\numpy\\lib\\function_base.py:2705: RuntimeWarning: divide by zero encountered in divide\n",
      "  c *= np.true_divide(1, fact)\n"
     ]
    },
    {
     "data": {
      "text/html": [
       "<div>\n",
       "<style scoped>\n",
       "    .dataframe tbody tr th:only-of-type {\n",
       "        vertical-align: middle;\n",
       "    }\n",
       "\n",
       "    .dataframe tbody tr th {\n",
       "        vertical-align: top;\n",
       "    }\n",
       "\n",
       "    .dataframe thead th {\n",
       "        text-align: right;\n",
       "    }\n",
       "</style>\n",
       "<table border=\"1\" class=\"dataframe\">\n",
       "  <thead>\n",
       "    <tr style=\"text-align: right;\">\n",
       "      <th></th>\n",
       "      <th>title</th>\n",
       "      <th>genres</th>\n",
       "      <th>Viewer</th>\n",
       "    </tr>\n",
       "  </thead>\n",
       "  <tbody>\n",
       "    <tr>\n",
       "      <th>0</th>\n",
       "      <td>Pet Sematary (1989)</td>\n",
       "      <td>Horror</td>\n",
       "      <td>1.0</td>\n",
       "    </tr>\n",
       "    <tr>\n",
       "      <th>1</th>\n",
       "      <td>Free Willy 2: The Adventure Home (1995)</td>\n",
       "      <td>Adventure|Children|Drama</td>\n",
       "      <td>1.0</td>\n",
       "    </tr>\n",
       "    <tr>\n",
       "      <th>2</th>\n",
       "      <td>Coco (2017)</td>\n",
       "      <td>Adventure|Animation|Children</td>\n",
       "      <td>1.0</td>\n",
       "    </tr>\n",
       "    <tr>\n",
       "      <th>3</th>\n",
       "      <td>Cold Comfort Farm (1995)</td>\n",
       "      <td>Comedy</td>\n",
       "      <td>1.0</td>\n",
       "    </tr>\n",
       "    <tr>\n",
       "      <th>4</th>\n",
       "      <td>Cook the Thief His Wife &amp; Her Lover, The (1989)</td>\n",
       "      <td>Comedy|Drama</td>\n",
       "      <td>1.0</td>\n",
       "    </tr>\n",
       "    <tr>\n",
       "      <th>5</th>\n",
       "      <td>Secrets &amp; Lies (1996)</td>\n",
       "      <td>Drama</td>\n",
       "      <td>1.0</td>\n",
       "    </tr>\n",
       "    <tr>\n",
       "      <th>6</th>\n",
       "      <td>Pacific Heights (1990)</td>\n",
       "      <td>Mystery|Thriller</td>\n",
       "      <td>1.0</td>\n",
       "    </tr>\n",
       "    <tr>\n",
       "      <th>7</th>\n",
       "      <td>Madness of King George, The (1994)</td>\n",
       "      <td>Comedy|Drama</td>\n",
       "      <td>1.0</td>\n",
       "    </tr>\n",
       "    <tr>\n",
       "      <th>8</th>\n",
       "      <td>Kazaam (1996)</td>\n",
       "      <td>Children|Comedy|Fantasy</td>\n",
       "      <td>1.0</td>\n",
       "    </tr>\n",
       "  </tbody>\n",
       "</table>\n",
       "</div>"
      ],
      "text/plain": [
       "                                             title  \\\n",
       "0                              Pet Sematary (1989)   \n",
       "1          Free Willy 2: The Adventure Home (1995)   \n",
       "2                                      Coco (2017)   \n",
       "3                         Cold Comfort Farm (1995)   \n",
       "4  Cook the Thief His Wife & Her Lover, The (1989)   \n",
       "5                            Secrets & Lies (1996)   \n",
       "6                           Pacific Heights (1990)   \n",
       "7               Madness of King George, The (1994)   \n",
       "8                                    Kazaam (1996)   \n",
       "\n",
       "                         genres  Viewer  \n",
       "0                        Horror     1.0  \n",
       "1      Adventure|Children|Drama     1.0  \n",
       "2  Adventure|Animation|Children     1.0  \n",
       "3                        Comedy     1.0  \n",
       "4                  Comedy|Drama     1.0  \n",
       "5                         Drama     1.0  \n",
       "6              Mystery|Thriller     1.0  \n",
       "7                  Comedy|Drama     1.0  \n",
       "8       Children|Comedy|Fantasy     1.0  "
      ]
     },
     "execution_count": 96,
     "metadata": {},
     "output_type": "execute_result"
    }
   ],
   "source": [
    "item_based_recommender('harry potter', 9)\n"
   ]
  }
 ],
 "metadata": {
  "kernelspec": {
   "display_name": "Python 3",
   "language": "python",
   "name": "python3"
  },
  "language_info": {
   "codemirror_mode": {
    "name": "ipython",
    "version": 3
   },
   "file_extension": ".py",
   "mimetype": "text/x-python",
   "name": "python",
   "nbconvert_exporter": "python",
   "pygments_lexer": "ipython3",
   "version": "3.10.4"
  },
  "orig_nbformat": 4,
  "vscode": {
   "interpreter": {
    "hash": "e5d44d20471fed6b31c84e96a507e39677b7979bf00486c2e6552218c91082f0"
   }
  }
 },
 "nbformat": 4,
 "nbformat_minor": 2
}
