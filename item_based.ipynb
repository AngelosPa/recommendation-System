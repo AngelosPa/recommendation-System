{
 "cells": [
  {
   "cell_type": "code",
   "execution_count": 15,
   "metadata": {},
   "outputs": [],
   "source": [
    "# recommender function \n",
    "import pandas as pd\n",
    "import numpy as np"
   ]
  },
  {
   "cell_type": "code",
   "execution_count": 16,
   "metadata": {},
   "outputs": [],
   "source": [
    "movies_original = pd.read_csv('movies.csv')\n",
    "ratings_original = pd.read_csv('ratings.csv')\n",
    "links_original = pd.read_csv('links.csv')\n"
   ]
  },
  {
   "cell_type": "code",
   "execution_count": 17,
   "metadata": {},
   "outputs": [
    {
     "name": "stderr",
     "output_type": "stream",
     "text": [
      "c:\\Users\\mrpal\\AppData\\Local\\Programs\\Python\\Python310\\lib\\site-packages\\numpy\\lib\\function_base.py:2846: RuntimeWarning: Degrees of freedom <= 0 for slice\n",
      "  c = cov(x, y, rowvar, dtype=dtype)\n",
      "c:\\Users\\mrpal\\AppData\\Local\\Programs\\Python\\Python310\\lib\\site-packages\\numpy\\lib\\function_base.py:2705: RuntimeWarning: divide by zero encountered in divide\n",
      "  c *= np.true_divide(1, fact)\n"
     ]
    },
    {
     "data": {
      "text/plain": [
       "['Nixon (1995)',\n",
       " 'Murder in the First (1995)',\n",
       " 'Circle of Friends (1995)',\n",
       " 'American in Paris, An (1951)']"
      ]
     },
     "execution_count": 17,
     "metadata": {},
     "output_type": "execute_result"
    }
   ],
   "source": [
    "\n",
    "def item_based_recommender(movie_name, n):\n",
    "\n",
    "    movies = movies_original.copy()\n",
    "    ratings = ratings_original.copy()\n",
    "    movies['title_lower'] = movies['title'].str.lower()\n",
    "    if len(movies.loc[movies['title_lower'].str.contains(movie_name.lower())]) == 0:\n",
    "        return \"Movie not found\"\n",
    "    else:\n",
    "        top_popular_for_movieId = movies.loc[movies['title_lower'].str.contains(\n",
    "            movie_name.lower())]['movieId'].values[0]\n",
    "\n",
    "        # # Create a new dataframe with movieId, title and genres\n",
    "        movies_df = movies.merge(ratings, on='movieId', how='inner')\n",
    "        # # Predator (1987) with movieId == 3527\n",
    "        # #sparse matrix\n",
    "        movies_crosstab_original = movies_df.pivot_table(\n",
    "            index='userId', columns='movieId', values='rating')\n",
    "        # movies_crosstab = movies_df.pivot_table(\n",
    "        #     index='userId', columns='movieId', values='rating')\n",
    "        movies_crosstab = movies_crosstab_original.copy()\n",
    "        predator_ratings = movies_crosstab[top_popular_for_movieId]\n",
    "        predator_ratings[predator_ratings >= 0]  # exclude NaNs\n",
    "        similar_to_predator = movies_crosstab.corrwith(predator_ratings)\n",
    "        # NaN means that no users rated both the movie and the predator\n",
    "        # drop the NaNs\n",
    "        corr_predator = pd.DataFrame(similar_to_predator, columns=['Viewer'])\n",
    "        corr_predator.dropna(inplace=True)\n",
    "        corr_predator.sort_values('Viewer', ascending=False)\n",
    "        rating = pd.DataFrame(ratings.groupby('movieId')['rating'].mean())\n",
    "        rating['rating_count'] = ratings.groupby('movieId')['rating'].count()\n",
    "        predator_corr_summary = corr_predator.join(rating['rating_count'])\n",
    "        predator_corr_summary.drop(top_popular_for_movieId, inplace=True)\n",
    "        top = predator_corr_summary[predator_corr_summary['rating_count'] >= 10].sort_values(\n",
    "            'Viewer', ascending=False).head(n)\n",
    "\n",
    "        return top.merge(movies, on='movieId', how='inner')[\n",
    "            ['title', 'genres', 'Viewer']][\"title\"].tolist()\n",
    "\n",
    "\n",
    "item_based_recommender('MaTRix', 4)\n"
   ]
  },
  {
   "cell_type": "code",
   "execution_count": 18,
   "metadata": {},
   "outputs": [
    {
     "data": {
      "text/plain": [
       "'Movie not found'"
      ]
     },
     "execution_count": 18,
     "metadata": {},
     "output_type": "execute_result"
    }
   ],
   "source": [
    "item_based_recommender('harry Popper', 4)\n"
   ]
  },
  {
   "cell_type": "code",
   "execution_count": 19,
   "metadata": {},
   "outputs": [
    {
     "name": "stderr",
     "output_type": "stream",
     "text": [
      "c:\\Users\\mrpal\\AppData\\Local\\Programs\\Python\\Python310\\lib\\site-packages\\numpy\\lib\\function_base.py:2846: RuntimeWarning: Degrees of freedom <= 0 for slice\n",
      "  c = cov(x, y, rowvar, dtype=dtype)\n",
      "c:\\Users\\mrpal\\AppData\\Local\\Programs\\Python\\Python310\\lib\\site-packages\\numpy\\lib\\function_base.py:2705: RuntimeWarning: divide by zero encountered in divide\n",
      "  c *= np.true_divide(1, fact)\n"
     ]
    },
    {
     "data": {
      "text/plain": [
       "['Pet Sematary (1989)',\n",
       " 'Free Willy 2: The Adventure Home (1995)',\n",
       " 'Coco (2017)',\n",
       " 'Cold Comfort Farm (1995)',\n",
       " 'Cook the Thief His Wife & Her Lover, The (1989)',\n",
       " 'Secrets & Lies (1996)',\n",
       " 'Pacific Heights (1990)',\n",
       " 'Madness of King George, The (1994)',\n",
       " 'Kazaam (1996)']"
      ]
     },
     "execution_count": 19,
     "metadata": {},
     "output_type": "execute_result"
    }
   ],
   "source": [
    "item_based_recommender('harry potter', 9)\n"
   ]
  }
 ],
 "metadata": {
  "kernelspec": {
   "display_name": "Python 3",
   "language": "python",
   "name": "python3"
  },
  "language_info": {
   "codemirror_mode": {
    "name": "ipython",
    "version": 3
   },
   "file_extension": ".py",
   "mimetype": "text/x-python",
   "name": "python",
   "nbconvert_exporter": "python",
   "pygments_lexer": "ipython3",
   "version": "3.10.4"
  },
  "orig_nbformat": 4,
  "vscode": {
   "interpreter": {
    "hash": "e5d44d20471fed6b31c84e96a507e39677b7979bf00486c2e6552218c91082f0"
   }
  }
 },
 "nbformat": 4,
 "nbformat_minor": 2
}
