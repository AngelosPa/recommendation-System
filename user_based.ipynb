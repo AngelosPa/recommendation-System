{
 "cells": [
  {
   "cell_type": "code",
   "execution_count": 42,
   "metadata": {},
   "outputs": [],
   "source": [
    "# recommender function\n",
    "import pandas as pd\n",
    "import numpy as np\n",
    "from sklearn.metrics.pairwise import cosine_similarity\n",
    "from sklearn.preprocessing import MinMaxScaler\n"
   ]
  },
  {
   "cell_type": "code",
   "execution_count": 43,
   "metadata": {},
   "outputs": [],
   "source": [
    "movies_original = pd.read_csv('movies.csv')\n",
    "ratings_original = pd.read_csv('ratings.csv')\n",
    "links_original = pd.read_csv('links.csv')"
   ]
  },
  {
   "cell_type": "code",
   "execution_count": 44,
   "metadata": {},
   "outputs": [
    {
     "data": {
      "text/html": [
       "<div>\n",
       "<style scoped>\n",
       "    .dataframe tbody tr th:only-of-type {\n",
       "        vertical-align: middle;\n",
       "    }\n",
       "\n",
       "    .dataframe tbody tr th {\n",
       "        vertical-align: top;\n",
       "    }\n",
       "\n",
       "    .dataframe thead th {\n",
       "        text-align: right;\n",
       "    }\n",
       "</style>\n",
       "<table border=\"1\" class=\"dataframe\">\n",
       "  <thead>\n",
       "    <tr style=\"text-align: right;\">\n",
       "      <th></th>\n",
       "      <th>userId</th>\n",
       "      <th>movieId</th>\n",
       "      <th>rating</th>\n",
       "      <th>timestamp</th>\n",
       "    </tr>\n",
       "  </thead>\n",
       "  <tbody>\n",
       "    <tr>\n",
       "      <th>57755</th>\n",
       "      <td>380</td>\n",
       "      <td>52722</td>\n",
       "      <td>3.0</td>\n",
       "      <td>1494690900</td>\n",
       "    </tr>\n",
       "    <tr>\n",
       "      <th>100007</th>\n",
       "      <td>610</td>\n",
       "      <td>7147</td>\n",
       "      <td>4.0</td>\n",
       "      <td>1493845044</td>\n",
       "    </tr>\n",
       "    <tr>\n",
       "      <th>59183</th>\n",
       "      <td>386</td>\n",
       "      <td>160</td>\n",
       "      <td>3.0</td>\n",
       "      <td>842610344</td>\n",
       "    </tr>\n",
       "  </tbody>\n",
       "</table>\n",
       "</div>"
      ],
      "text/plain": [
       "        userId  movieId  rating   timestamp\n",
       "57755      380    52722     3.0  1494690900\n",
       "100007     610     7147     4.0  1493845044\n",
       "59183      386      160     3.0   842610344"
      ]
     },
     "execution_count": 44,
     "metadata": {},
     "output_type": "execute_result"
    }
   ],
   "source": [
    "ratings = ratings_original.copy()\n",
    "ratings.sample(3)"
   ]
  },
  {
   "cell_type": "code",
   "execution_count": 45,
   "metadata": {},
   "outputs": [],
   "source": [
    "ratings.loc[ratings_original['userId'] ==610]\n",
    "# user item matrix \n",
    "users_crosstab_original = ratings.pivot_table(\n",
    "    index='userId', columns='movieId', values='rating')\n",
    "\n",
    "\n",
    "# values=None, index=None, columns=None, aggfunc='mean', fill_value=None,\n",
    "#                    margins=False, dropna=True, margins_name='All', observed=False, sort=True)\n",
    "\n",
    "\n",
    "users_crosstab_original.fillna(0, inplace=True)\n"
   ]
  },
  {
   "cell_type": "code",
   "execution_count": 46,
   "metadata": {},
   "outputs": [],
   "source": [
    "users_crosstab = users_crosstab_original.copy()\n"
   ]
  },
  {
   "cell_type": "code",
   "execution_count": 55,
   "metadata": {},
   "outputs": [
    {
     "data": {
      "text/html": [
       "<div>\n",
       "<style scoped>\n",
       "    .dataframe tbody tr th:only-of-type {\n",
       "        vertical-align: middle;\n",
       "    }\n",
       "\n",
       "    .dataframe tbody tr th {\n",
       "        vertical-align: top;\n",
       "    }\n",
       "\n",
       "    .dataframe thead th {\n",
       "        text-align: right;\n",
       "    }\n",
       "</style>\n",
       "<table border=\"1\" class=\"dataframe\">\n",
       "  <thead>\n",
       "    <tr style=\"text-align: right;\">\n",
       "      <th></th>\n",
       "      <th>movieId</th>\n",
       "      <th>title</th>\n",
       "    </tr>\n",
       "  </thead>\n",
       "  <tbody>\n",
       "    <tr>\n",
       "      <th>322</th>\n",
       "      <td>364</td>\n",
       "      <td>Lion King, The (1994)</td>\n",
       "    </tr>\n",
       "    <tr>\n",
       "      <th>1183</th>\n",
       "      <td>1580</td>\n",
       "      <td>Men in Black (a.k.a. MIB) (1997)</td>\n",
       "    </tr>\n",
       "    <tr>\n",
       "      <th>1284</th>\n",
       "      <td>1704</td>\n",
       "      <td>Good Will Hunting (1997)</td>\n",
       "    </tr>\n",
       "    <tr>\n",
       "      <th>1734</th>\n",
       "      <td>2329</td>\n",
       "      <td>American History X (1998)</td>\n",
       "    </tr>\n",
       "  </tbody>\n",
       "</table>\n",
       "</div>"
      ],
      "text/plain": [
       "      movieId                             title\n",
       "322       364             Lion King, The (1994)\n",
       "1183     1580  Men in Black (a.k.a. MIB) (1997)\n",
       "1284     1704          Good Will Hunting (1997)\n",
       "1734     2329         American History X (1998)"
      ]
     },
     "execution_count": 55,
     "metadata": {},
     "output_type": "execute_result"
    }
   ],
   "source": [
    "def user_based_recommender(user_id, n):\n",
    "        movies = movies_original.copy()\n",
    "        ratings = ratings_original.copy()\n",
    "        \n",
    "        if len(ratings.loc[ratings['userId']== user_id]):\n",
    "            # user based approach using cosine similarity\n",
    "           \n",
    "            # user item matrix\n",
    "            users_crosstab_original = ratings.pivot_table(\n",
    "    index='userId', columns='movieId', values='rating')\n",
    "            users_crosstab_original.fillna(0, inplace=True)\n",
    "            users_crosstab = users_crosstab_original.copy()\n",
    "            # user similarity matrix\n",
    "            user_similarity = cosine_similarity(users_crosstab)\n",
    "            # turn similarities to weights\n",
    "            user_similarity = MinMaxScaler().fit_transform(user_similarity)\n",
    "            # estimate the missing ratings\n",
    "            user_predicted_ratings = np.dot(user_similarity, users_crosstab)\n",
    "            # turn the predicted ratings to a dataframe\n",
    "            user_predicted_ratings = pd.DataFrame(\n",
    "                user_predicted_ratings, index=users_crosstab.index, columns=users_crosstab.columns)\n",
    "            # get the movies that the user has already rated\n",
    "            user_rated = users_crosstab.loc[user_id, :]\n",
    "            # get the movies that the user has not rated\n",
    "            user_not_rated = user_rated[user_rated == 0]\n",
    "            # get the movies that the user has not rated and sort them by the predicted ratings\n",
    "            user_predicted_ratings = user_predicted_ratings.loc[user_id, user_not_rated.index]\n",
    "            user_predicted_ratings = user_predicted_ratings.sort_values(    ascending=False)\n",
    "            # get the top n movies\n",
    "            user_predicted_ratings = user_predicted_ratings.head(n)\n",
    "            # get movie name\n",
    "            movieslist = movies.loc[movies['movieId'].isin(user_predicted_ratings.index), ['movieId', 'title']]\n",
    "            \n",
    "            # similarity = pd.DataFrame(user_similarity, index=users_crosstab.index, columns=users_crosstab.index)\n",
    "            return movieslist\n",
    "        else:\n",
    "            \n",
    "            return \"Movie not found\"\n",
    "    \n",
    "        \n",
    "\n",
    "\n",
    "user_based_recommender(610, 4)\n"
   ]
  }
 ],
 "metadata": {
  "kernelspec": {
   "display_name": "Python 3",
   "language": "python",
   "name": "python3"
  },
  "language_info": {
   "codemirror_mode": {
    "name": "ipython",
    "version": 3
   },
   "file_extension": ".py",
   "mimetype": "text/x-python",
   "name": "python",
   "nbconvert_exporter": "python",
   "pygments_lexer": "ipython3",
   "version": "3.10.4"
  },
  "orig_nbformat": 4,
  "vscode": {
   "interpreter": {
    "hash": "e5d44d20471fed6b31c84e96a507e39677b7979bf00486c2e6552218c91082f0"
   }
  }
 },
 "nbformat": 4,
 "nbformat_minor": 2
}
